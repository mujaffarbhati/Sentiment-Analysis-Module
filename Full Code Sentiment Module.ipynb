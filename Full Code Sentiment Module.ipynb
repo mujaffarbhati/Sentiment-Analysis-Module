{
 "cells": [
  {
   "cell_type": "code",
   "execution_count": 1,
   "id": "2e0f20c1",
   "metadata": {},
   "outputs": [],
   "source": [
    "import nltk\n",
    "import random\n",
    "# from nltk.corpus import movie_reviews\n",
    "from nltk.classify.scikitlearn import SklearnClassifier\n",
    "from sklearn.naive_bayes import MultinomialNB,BernoulliNB\n",
    "from nltk.tokenize import word_tokenize\n",
    "import pickle\n",
    "from sklearn.linear_model import LogisticRegression,SGDClassifier\n",
    "from sklearn.svm import SVC, LinearSVC, NuSVC\n",
    "\n"
   ]
  },
  {
   "cell_type": "code",
   "execution_count": 2,
   "id": "2bc39cee",
   "metadata": {},
   "outputs": [],
   "source": [
    "from nltk.classify import ClassifierI\n",
    "from statistics import mode #Needed for voting purpose"
   ]
  },
  {
   "cell_type": "code",
   "execution_count": 3,
   "id": "2931963c",
   "metadata": {},
   "outputs": [],
   "source": [
    "class VoteClassifier(ClassifierI):\n",
    "    def __init__(self, *classifiers):\n",
    "        self._classifiers = classifiers\n",
    "        \n",
    "    def classify(self, features):\n",
    "        votes = []\n",
    "        for c in self._classifiers:\n",
    "            v = c.classify(features)\n",
    "            votes.append(v)\n",
    "        return mode(votes) #returns the mode votes which is the the most popular\n",
    "    def confidence(self, features):\n",
    "        votes = []\n",
    "        for c in self._classifiers:\n",
    "            v = c.classify(features)\n",
    "            votes.append(v)\n",
    "\n",
    "        choice_votes = votes.count(mode(votes))\n",
    "        conf = choice_votes / len(votes)\n",
    "        return conf #passes confidence of the votes chosen"
   ]
  },
  {
   "cell_type": "code",
   "execution_count": null,
   "id": "a85127ec",
   "metadata": {},
   "outputs": [],
   "source": [
    "                    "
   ]
  },
  {
   "cell_type": "code",
   "execution_count": null,
   "id": "20011884",
   "metadata": {},
   "outputs": [],
   "source": []
  },
  {
   "cell_type": "code",
   "execution_count": 4,
   "id": "25a001a1",
   "metadata": {},
   "outputs": [],
   "source": [
    "# documents=[(list(movie_reviews.words(fileid)),category) #It takes words as features overall\n",
    "#             for category in movie_reviews.categories() #for separating categories from the file\n",
    "#             for fileid in movie_reviews.fileids(category)]"
   ]
  },
  {
   "cell_type": "code",
   "execution_count": 5,
   "id": "9f2a542a",
   "metadata": {},
   "outputs": [],
   "source": [
    "# random.shuffle(documents)"
   ]
  },
  {
   "cell_type": "code",
   "execution_count": 6,
   "id": "75c9f50d",
   "metadata": {},
   "outputs": [],
   "source": [
    "# print(documents[1])"
   ]
  },
  {
   "cell_type": "code",
   "execution_count": 7,
   "id": "e57cf9d1",
   "metadata": {},
   "outputs": [],
   "source": [
    "# all_words =[]\n",
    "# for w in movie_reviews.words():\n",
    "#     all_words.append(w.lower()) #THis is used to normalize the data so that all the words are hence in lower case"
   ]
  },
  {
   "cell_type": "code",
   "execution_count": 8,
   "id": "5e57894c",
   "metadata": {},
   "outputs": [],
   "source": [
    "#above 4 lines commentwed for getting an external dataset"
   ]
  },
  {
   "cell_type": "code",
   "execution_count": null,
   "id": "a984dc20",
   "metadata": {},
   "outputs": [],
   "source": []
  },
  {
   "cell_type": "code",
   "execution_count": null,
   "id": "082bbda8",
   "metadata": {},
   "outputs": [],
   "source": []
  },
  {
   "cell_type": "code",
   "execution_count": 9,
   "id": "5d45802b",
   "metadata": {},
   "outputs": [],
   "source": [
    "short_pos = open(\"positive.txt\",\"r\").read()\n",
    "short_neg = open(\"negative.txt\",\"r\").read()\n",
    "\n",
    "all_words = []\n",
    "documents = []\n",
    "\n",
    "\n",
    "#  j is adject, r is adverb, and v is verb\n",
    "#allowed_word_types = [\"J\",\"R\",\"V\"]\n",
    "allowed_word_types = [\"J\"]\n",
    "\n",
    "for p in short_pos.split('\\n'):\n",
    "    documents.append( (p, \"pos\") )\n",
    "    words = word_tokenize(p)\n",
    "    pos = nltk.pos_tag(words)\n",
    "    for w in pos:\n",
    "        if w[1][0] in allowed_word_types:\n",
    "            all_words.append(w[0].lower())\n",
    "\n",
    "    \n",
    "for p in short_neg.split('\\n'):\n",
    "    documents.append( (p, \"neg\") )\n",
    "    words = word_tokenize(p)\n",
    "    pos = nltk.pos_tag(words)\n",
    "    for w in pos:\n",
    "        if w[1][0] in allowed_word_types:\n",
    "            all_words.append(w[0].lower())\n",
    "\n",
    "\n",
    "\n",
    "save_documents = open(\"pickled_algos/documents.pickle\",\"wb\")\n",
    "pickle.dump(documents, save_documents)\n",
    "save_documents.close()\n"
   ]
  },
  {
   "cell_type": "code",
   "execution_count": 10,
   "id": "bdeed72b",
   "metadata": {},
   "outputs": [],
   "source": [
    "all_words=nltk.FreqDist(all_words)"
   ]
  },
  {
   "cell_type": "code",
   "execution_count": 11,
   "id": "539de613",
   "metadata": {},
   "outputs": [],
   "source": [
    "# print(all_words.most_common(15)) used to check most common used words"
   ]
  },
  {
   "cell_type": "code",
   "execution_count": 12,
   "id": "7c19a227",
   "metadata": {},
   "outputs": [],
   "source": [
    "# print(all_words[\"stupid\"])#used to check the frequency of a particular word in the document"
   ]
  },
  {
   "cell_type": "code",
   "execution_count": 13,
   "id": "6ce5f5be",
   "metadata": {},
   "outputs": [],
   "source": [
    "word_features = list(all_words.keys())[:5000]\n",
    "save_word_features = open(\"pickled_algos/word_features5k.pickle\",\"wb\")\n",
    "pickle.dump(word_features, save_word_features)\n",
    "save_word_features.close()\n"
   ]
  },
  {
   "cell_type": "code",
   "execution_count": 14,
   "id": "346c120f",
   "metadata": {},
   "outputs": [],
   "source": [
    "def find_features(document):\n",
    "    words = word_tokenize(document)\n",
    "    features = {}\n",
    "    for w in word_features:\n",
    "        features[w] = (w in words)\n",
    "\n",
    "    return features #this will find whether the top 5000 words are positive or negative reviews"
   ]
  },
  {
   "cell_type": "code",
   "execution_count": 15,
   "id": "201a17b0",
   "metadata": {},
   "outputs": [],
   "source": [
    "# print((find_features(movie_reviews.words('neg/cv000_29416.txt'))))\n"
   ]
  },
  {
   "cell_type": "code",
   "execution_count": 16,
   "id": "3b5b96b2",
   "metadata": {},
   "outputs": [],
   "source": [
    "featuresets = [(find_features(rev), category) for (rev, category) in documents]\n",
    "random.shuffle(featuresets)\n",
    "#print(len(featuresets)) #used to check the size of the set"
   ]
  },
  {
   "cell_type": "code",
   "execution_count": 17,
   "id": "fba5b1c0",
   "metadata": {},
   "outputs": [],
   "source": [
    "training_set=featuresets[:10000]\n",
    "testing_set=featuresets[10000:]"
   ]
  },
  {
   "cell_type": "code",
   "execution_count": 18,
   "id": "619db053",
   "metadata": {},
   "outputs": [],
   "source": [
    "classifier = nltk.NaiveBayesClassifier.train(training_set) #used down below with other nbs algos\n"
   ]
  },
  {
   "cell_type": "code",
   "execution_count": 19,
   "id": "51a2e3ba",
   "metadata": {},
   "outputs": [
    {
     "name": "stdout",
     "output_type": "stream",
     "text": [
      "Classifier accuracy percent: 72.59036144578313\n"
     ]
    }
   ],
   "source": [
    "print(\"Classifier accuracy percent:\",(nltk.classify.accuracy(classifier, testing_set))*100)\n"
   ]
  },
  {
   "cell_type": "code",
   "execution_count": 20,
   "id": "7086164c",
   "metadata": {},
   "outputs": [
    {
     "name": "stdout",
     "output_type": "stream",
     "text": [
      "Most Informative Features\n",
      "              engrossing = True              pos : neg    =     21.0 : 1.0\n",
      "                 routine = True              neg : pos    =     16.3 : 1.0\n",
      "                mediocre = True              neg : pos    =     15.0 : 1.0\n",
      "                    flat = True              neg : pos    =     15.0 : 1.0\n",
      "               inventive = True              pos : neg    =     14.3 : 1.0\n",
      "                  boring = True              neg : pos    =     14.1 : 1.0\n",
      "                 generic = True              neg : pos    =     13.7 : 1.0\n",
      "                powerful = True              pos : neg    =     13.0 : 1.0\n",
      "                  unique = True              pos : neg    =     13.0 : 1.0\n",
      "                    warm = True              pos : neg    =     12.6 : 1.0\n",
      "               wonderful = True              pos : neg    =     12.6 : 1.0\n",
      "                haunting = True              pos : neg    =     12.3 : 1.0\n",
      "              refreshing = True              pos : neg    =     12.3 : 1.0\n",
      "                mindless = True              neg : pos    =     11.7 : 1.0\n",
      "             mesmerizing = True              pos : neg    =     11.0 : 1.0\n"
     ]
    }
   ],
   "source": [
    "classifier.show_most_informative_features(15)\n"
   ]
  },
  {
   "cell_type": "code",
   "execution_count": 21,
   "id": "dc7c2452",
   "metadata": {},
   "outputs": [],
   "source": [
    "# import pickle"
   ]
  },
  {
   "cell_type": "code",
   "execution_count": 22,
   "id": "8d6b6559",
   "metadata": {},
   "outputs": [],
   "source": [
    "# save_classifier = open(\"naivebayes.pickle\",\"wb\")\n",
    "# pickle.dump(classifier, save_classifier)\n",
    "# save_classifier.close()"
   ]
  },
  {
   "cell_type": "code",
   "execution_count": 23,
   "id": "0a36ee68",
   "metadata": {},
   "outputs": [],
   "source": [
    "# classifier_f = open(\"naivebayes.pickle\", \"rb\")\n",
    "# classifier = pickle.load(classifier_f)\n",
    "# classifier_f.close()\n",
    "# #this is used to read the file from pickle"
   ]
  },
  {
   "cell_type": "code",
   "execution_count": 24,
   "id": "f31d2173",
   "metadata": {},
   "outputs": [],
   "source": [
    "# MNB_classifier = SklearnClassifier(MultinomialNB())\n",
    "# MNB_classifier.train(training_set)\n",
    "# print(\"MultinomialNB accuracy percent:\",nltk.classify.accuracy(MNB_classifier, testing_set))\n",
    "\n",
    "# BNB_classifier = SklearnClassifier(BernoulliNB())\n",
    "# BNB_classifier.train(training_set)\n",
    "# print(\"BernoulliNB accuracy percent:\",nltk.classify.accuracy(BNB_classifier, testing_set))"
   ]
  },
  {
   "cell_type": "code",
   "execution_count": null,
   "id": "cfa5c89a",
   "metadata": {},
   "outputs": [],
   "source": []
  },
  {
   "cell_type": "code",
   "execution_count": 26,
   "id": "2275a873",
   "metadata": {},
   "outputs": [
    {
     "name": "stdout",
     "output_type": "stream",
     "text": [
      "Original Naive Bayes Algo accuracy percent: 72.59036144578313\n",
      "MNB_classifier accuracy percent: 72.89156626506023\n",
      "BernoulliNB_classifier accuracy percent: 72.7409638554217\n",
      "LogisticRegression_classifier accuracy percent: 72.13855421686746\n",
      "SGDClassifier_classifier accuracy percent: 70.63253012048193\n",
      "LinearSVC_classifier accuracy percent: 70.48192771084338\n"
     ]
    }
   ],
   "source": [
    "print(\"Original Naive Bayes Algo accuracy percent:\", (nltk.classify.accuracy(classifier, testing_set))*100)\n",
    "# classifier.show_most_informative_features(15) # used for showing values kinda of ratio of neg to pos\n",
    "save_classifier = open(\"pickled_algos/originalnaivebayes5k.pickle\",\"wb\")\n",
    "pickle.dump(classifier, save_classifier)\n",
    "save_classifier.close()\n",
    "\n",
    "\n",
    "MNB_classifier = SklearnClassifier(MultinomialNB())\n",
    "MNB_classifier.train(training_set)\n",
    "print(\"MNB_classifier accuracy percent:\", (nltk.classify.accuracy(MNB_classifier, testing_set))*100)\n",
    "save_classifier = open(\"pickled_algos/MNB_classifier5k.pickle\",\"wb\")\n",
    "pickle.dump(MNB_classifier, save_classifier)\n",
    "save_classifier.close()\n",
    "\n",
    "BernoulliNB_classifier = SklearnClassifier(BernoulliNB())\n",
    "BernoulliNB_classifier.train(training_set)\n",
    "print(\"BernoulliNB_classifier accuracy percent:\", (nltk.classify.accuracy(BernoulliNB_classifier, testing_set))*100)\n",
    "save_classifier = open(\"pickled_algos/BernoulliNB_classifier5k.pickle\",\"wb\")\n",
    "pickle.dump(BernoulliNB_classifier, save_classifier)\n",
    "save_classifier.close()\n",
    "\n",
    "LogisticRegression_classifier = SklearnClassifier(LogisticRegression())\n",
    "LogisticRegression_classifier.train(training_set)\n",
    "print(\"LogisticRegression_classifier accuracy percent:\", (nltk.classify.accuracy(LogisticRegression_classifier, testing_set))*100)\n",
    "save_classifier = open(\"pickled_algos/LogisticRegression_classifier5k.pickle\",\"wb\")\n",
    "pickle.dump(LogisticRegression_classifier, save_classifier)\n",
    "save_classifier.close()\n",
    "\n",
    "\n",
    "SGDClassifier_classifier = SklearnClassifier(SGDClassifier())\n",
    "SGDClassifier_classifier.train(training_set)\n",
    "print(\"SGDClassifier_classifier accuracy percent:\", (nltk.classify.accuracy(SGDClassifier_classifier, testing_set))*100)\n",
    "save_classifier = open(\"pickled_algos/SGDC_classifier5k.pickle\",\"wb\")\n",
    "pickle.dump(SGDClassifier_classifier, save_classifier)\n",
    "save_classifier.close()\n",
    "\n",
    "# SVC_classifier = SklearnClassifier(SVC())\n",
    "# SVC_classifier.train(training_set)\n",
    "# print(\"SVC_classifier accuracy percent:\", (nltk.classify.accuracy(SVC_classifier, testing_set))*100)\n",
    "\n",
    "LinearSVC_classifier = SklearnClassifier(LinearSVC())\n",
    "LinearSVC_classifier.train(training_set)\n",
    "print(\"LinearSVC_classifier accuracy percent:\", (nltk.classify.accuracy(LinearSVC_classifier, testing_set))*100)\n",
    "save_classifier = open(\"pickled_algos/LinearSVC_classifier5k.pickle\",\"wb\")\n",
    "pickle.dump(LinearSVC_classifier, save_classifier)\n",
    "save_classifier.close()\n",
    "\n",
    "# NuSVC_classifier = SklearnClassifier(NuSVC())\n",
    "# NuSVC_classifier.train(training_set)\n",
    "# print(\"NuSVC_classifier accuracy percent:\", (nltk.classify.accuracy(NuSVC_classifier, testing_set))*100)"
   ]
  },
  {
   "cell_type": "code",
   "execution_count": 27,
   "id": "c0d1fe6a",
   "metadata": {},
   "outputs": [
    {
     "name": "stdout",
     "output_type": "stream",
     "text": [
      "voted_classifier accuracy percent: 72.7409638554217\n",
      "Classification: pos Confidence %: 100.0\n",
      "Classification: neg Confidence %: 100.0\n",
      "Classification: pos Confidence %: 100.0\n",
      "Classification: neg Confidence %: 100.0\n",
      "Classification: neg Confidence %: 100.0\n",
      "Classification: pos Confidence %: 100.0\n"
     ]
    }
   ],
   "source": [
    "voted_classifier = VoteClassifier(classifier,\n",
    "                                  LinearSVC_classifier,\n",
    "                                  SGDClassifier_classifier,\n",
    "                                  MNB_classifier,\n",
    "                                  BernoulliNB_classifier,\n",
    "                                  LogisticRegression_classifier)\n",
    "\n",
    "print(\"voted_classifier accuracy percent:\", (nltk.classify.accuracy(voted_classifier, testing_set))*100)\n",
    "\n",
    "print(\"Classification:\", voted_classifier.classify(testing_set[0][0]), \"Confidence %:\",voted_classifier.confidence(testing_set[0][0])*100)\n",
    "print(\"Classification:\", voted_classifier.classify(testing_set[1][0]), \"Confidence %:\",voted_classifier.confidence(testing_set[1][0])*100)\n",
    "print(\"Classification:\", voted_classifier.classify(testing_set[2][0]), \"Confidence %:\",voted_classifier.confidence(testing_set[2][0])*100)\n",
    "print(\"Classification:\", voted_classifier.classify(testing_set[3][0]), \"Confidence %:\",voted_classifier.confidence(testing_set[3][0])*100)\n",
    "print(\"Classification:\", voted_classifier.classify(testing_set[4][0]), \"Confidence %:\",voted_classifier.confidence(testing_set[4][0])*100)\n",
    "print(\"Classification:\", voted_classifier.classify(testing_set[5][0]), \"Confidence %:\",voted_classifier.confidence(testing_set[5][0])*100)"
   ]
  },
  {
   "cell_type": "code",
   "execution_count": 28,
   "id": "b0df395d",
   "metadata": {},
   "outputs": [],
   "source": [
    "def sentiment(text):\n",
    "    feats = find_features(text)\n",
    "    return voted_classifier.classify(feats)"
   ]
  },
  {
   "cell_type": "code",
   "execution_count": null,
   "id": "8c5e79eb",
   "metadata": {},
   "outputs": [],
   "source": []
  }
 ],
 "metadata": {
  "kernelspec": {
   "display_name": "Python 3 (ipykernel)",
   "language": "python",
   "name": "python3"
  },
  "language_info": {
   "codemirror_mode": {
    "name": "ipython",
    "version": 3
   },
   "file_extension": ".py",
   "mimetype": "text/x-python",
   "name": "python",
   "nbconvert_exporter": "python",
   "pygments_lexer": "ipython3",
   "version": "3.10.5"
  }
 },
 "nbformat": 4,
 "nbformat_minor": 5
}
